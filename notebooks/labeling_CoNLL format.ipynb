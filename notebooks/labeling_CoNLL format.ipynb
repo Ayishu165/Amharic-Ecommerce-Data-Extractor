{
 "cells": [
  {
   "cell_type": "code",
   "execution_count": 1,
   "id": "a766a563",
   "metadata": {},
   "outputs": [],
   "source": [
    "import pandas as pd\n",
    "import numpy as np"
   ]
  },
  {
   "cell_type": "code",
   "execution_count": 2,
   "id": "e4208e48",
   "metadata": {},
   "outputs": [
    {
     "name": "stdout",
     "output_type": "stream",
     "text": [
      "        channel                       date   date_only time_only day_of_week  \\\n",
      "0  @Fashiontera  2025-06-14 13:32:36+00:00  2025-06-14  13:32:36    Saturday   \n",
      "1  @Fashiontera  2025-06-13 19:55:32+00:00  2025-06-13  19:55:32      Friday   \n",
      "2  @Fashiontera  2025-06-11 20:11:16+00:00  2025-06-11  20:11:16   Wednesday   \n",
      "3  @Fashiontera  2025-06-04 19:18:01+00:00  2025-06-04  19:18:01   Wednesday   \n",
      "4  @Fashiontera  2025-06-03 19:34:21+00:00  2025-06-03  19:34:21     Tuesday   \n",
      "\n",
      "          time_category      sender_id  views media_type  \\\n",
      "0  Afternoon (12PM-6PM) -1001175527648   1192      photo   \n",
      "1    Evening (6PM-12AM) -1001175527648   1098      photo   \n",
      "2    Evening (6PM-12AM) -1001175527648   1117      photo   \n",
      "3    Evening (6PM-12AM) -1001175527648   1835      photo   \n",
      "4    Evening (6PM-12AM) -1001175527648   1622      photo   \n",
      "\n",
      "                                             message  \\\n",
      "0  〰️〰️〰️〰️〰️〰️〰️\\nMade in Vietnam \\n🔸🔸🔸🔸🔸🔸\\nSize...   \n",
      "1  〰️〰️〰️〰️〰️〰️〰️\\nAirforce \\nMade in Vietnam \\n🔸...   \n",
      "2  〰️〰️〰️〰️〰️〰️〰️\\nUnder Armur\\nMade in Vietnam \\...   \n",
      "3  〰️〰️〰️〰️〰️〰️〰️\\nNB\\nMade in Vietnam \\n🔸🔸🔸🔸🔸🔸\\n...   \n",
      "4  〰️〰️〰️〰️〰️〰️〰️\\nHigh Quality shoes \\n🔸🔸🔸🔸🔸🔸\\nS...   \n",
      "\n",
      "                                       clean_message  \\\n",
      "0  4142 3400 ስልክ 251945355266 ፋሽን ተራ አድራሻ አዲስ አበባ...   \n",
      "1  4041424344 4500 ስልክ 251945355266 ፋሽን ተራ አድራሻ አ...   \n",
      "2  4142 3500 ስልክ 251945355266 ፋሽን ተራ አድራሻ አዲስ አበባ...   \n",
      "3  4243 2900 ስልክ 251945355266 ፋሽን ተራ አድራሻ አዲስ አበባ...   \n",
      "4  44 3500 ስልክ 251945355266 ፋሽን ተራ አድራሻ አዲስ አበባ ጦ...   \n",
      "\n",
      "                                              tokens  brands  attributes  \\\n",
      "0  ['4142', '3400', 'ስልክ', '251945355266', 'ፋሽን',...     NaN         NaN   \n",
      "1  ['4041424344', '4500', 'ስልክ', '251945355266', ...     NaN         NaN   \n",
      "2  ['4142', '3500', 'ስልክ', '251945355266', 'ፋሽን',...     NaN         NaN   \n",
      "3  ['4243', '2900', 'ስልክ', '251945355266', 'ፋሽን',...     NaN         NaN   \n",
      "4  ['44', '3500', 'ስልክ', '251945355266', 'ፋሽን', '...     NaN         NaN   \n",
      "\n",
      "   materials  \n",
      "0        NaN  \n",
      "1        NaN  \n",
      "2        NaN  \n",
      "3        NaN  \n",
      "4        NaN  \n",
      "Shape of the dataframe: (14453, 15)\n",
      "Data types of each column:\n",
      " channel           object\n",
      "date              object\n",
      "date_only         object\n",
      "time_only         object\n",
      "day_of_week       object\n",
      "time_category     object\n",
      "sender_id          int64\n",
      "views              int64\n",
      "media_type        object\n",
      "message           object\n",
      "clean_message     object\n",
      "tokens            object\n",
      "brands           float64\n",
      "attributes       float64\n",
      "materials        float64\n",
      "dtype: object\n"
     ]
    }
   ],
   "source": [
    "# Load the data\n",
    "df = pd.read_csv(\"D:\\kaimtenx\\project\\week4\\Amharic-Ecommerce-Data-Extractor\\data\\cleaned_processed_data.csv\")\n",
    "#display the first 5 rows of the dataframe\n",
    "print(df.head())\n",
    "# Display the shape of the dataframe\n",
    "print(\"Shape of the dataframe:\", df.shape)\n",
    "# Display the data types of each column\n",
    "print(\"Data types of each column:\\n\", df.dtypes)\n"
   ]
  },
  {
   "cell_type": "code",
   "execution_count": null,
   "id": "7be0b09c",
   "metadata": {},
   "outputs": [
    {
     "name": "stdout",
     "output_type": "stream",
     "text": [
      "Message 1: 4142 3400 ስልክ 251945355266 ፋሽን ተራ አድራሻ አዲስ አበባ ጦር ሀይሎች ድሪም ታወር 2ተኛ ፎቅ\n",
      "\n",
      "Message 2: 4041424344 4500 ስልክ 251945355266 ፋሽን ተራ አድራሻ አዲስ አበባ ጦር ሀይሎች ድሪም ታወር 2ተኛ ፎቅ\n",
      "\n",
      "Message 3: 4142 3500 ስልክ 251945355266 ፋሽን ተራ አድራሻ አዲስ አበባ ጦር ሀይሎች ድሪም ታወር 2ተኛ ፎቅ\n",
      "\n",
      "Message 4: 4243 2900 ስልክ 251945355266 ፋሽን ተራ አድራሻ አዲስ አበባ ጦር ሀይሎች ድሪም ታወር 2ተኛ ፎቅ\n",
      "\n",
      "Message 5: 44 3500 ስልክ 251945355266 ፋሽን ተራ አድራሻ አዲስ አበባ ጦር ሀይሎች ድሪም ታወር 2ተኛ ፎቅ\n",
      "\n",
      "Message 6: 414243 4200 ስልክ 251945355266 ፋሽን ተራ አድራሻ አዲስ አበባ ጦር ሀይሎች ድሪም ታወር 2ተኛ ፎቅ\n",
      "\n",
      "Message 7: 40 3900 ስልክ 251945355266 ፋሽን ተራ አድራሻ አዲስ አበባ ጦር ሀይሎች ድሪም ታወር 2ተኛ ፎቅ\n",
      "\n",
      "Message 8: በድጋሚ ገብቷል 39404243 3500 ስልክ 251945355266 ፋሽን ተራ አድራሻ አዲስ አበባ ጦር ሀይሎች ድሪም ታወር 2ተኛ ፎቅ\n",
      "\n",
      "Message 9: 2200 ስልክ 251945355266 ፋሽን ተራ አድራሻ አዲስ አበባ ጦር ሀይሎች ድሪም ታወር 2ተኛ ፎቅ\n",
      "\n",
      "Message 10: 3800 ስልክ 251945355266 ፋሽን ተራ አድራሻ አዲስ አበባ ጦር ሀይሎች ድሪም ታወር 2ተኛ ፎቅ\n",
      "\n",
      "Message 11: 4041424344 4500 ስልክ 251945355266 ፋሽን ተራ አድራሻ አዲስ አበባ ጦር ሀይሎች ድሪም ታወር 2ተኛ ፎቅ\n",
      "\n",
      "Message 12: 4041 3200 ስልክ 251945355266 ፋሽን ተራ አድራሻ አዲስ አበባ ጦር ሀይሎች ድሪም ታወር 2ተኛ ፎቅ\n",
      "\n",
      "Message 13: 4243 3500 ስልክ 251945355266 ፋሽን ተራ አድራሻ አዲስ አበባ ጦር ሀይሎች ድሪም ታወር 2ተኛ ፎቅ\n",
      "\n",
      "Message 14: 41 3200 ስልክ 251945355266 ፋሽን ተራ አድራሻ አዲስ አበባ ጦር ሀይሎች ድሪም ታወር 2ተኛ ፎቅ\n",
      "\n",
      "Message 15: 4243 2900 ስልክ 251945355266 ፋሽን ተራ አድራሻ አዲስ አበባ ጦር ሀይሎች ድሪም ታወር 2ተኛ ፎቅ\n",
      "\n",
      "Message 16: 4244 3500 ስልክ 251945355266 ፋሽን ተራ አድራሻ አዲስ አበባ ጦር ሀይሎች ድሪም ታወር 2ተኛ ፎቅ\n",
      "\n",
      "Message 17: 414243 4200 ስልክ 251945355266 ፋሽን ተራ አድራሻ አዲስ አበባ ጦር ሀይሎች ድሪም ታወር 2ተኛ ፎቅ\n",
      "\n",
      "Message 18: 4041 3500 ስልክ 251945355266 ፋሽን ተራ አድራሻ አዲስ አበባ ጦር ሀይሎች ድሪም ታወር 2ተኛ ፎቅ\n",
      "\n",
      "Message 19: 404243 3800 ስልክ 251945355266 ፋሽን ተራ አድራሻ አዲስ አበባ ጦር ሀይሎች ድሪም ታወር 2ተኛ ፎቅ\n",
      "\n",
      "Message 20: 414243 3800 ስልክ 251945355266 ፋሽን ተራ አድራሻ አዲስ አበባ ጦር ሀይሎች ድሪም ታወር 2ተኛ ፎቅ\n",
      "\n",
      "Message 21: 414243 3800 ስልክ 251945355266 ፋሽን ተራ አድራሻ አዲስ አበባ ጦር ሀይሎች ድሪም ታወር 2ተኛ ፎቅ\n",
      "\n",
      "Message 22: 4041 3500 ስልክ 251945355266 ፋሽን ተራ አድራሻ አዲስ አበባ ጦር ሀይሎች ድሪም ታወር 2ተኛ ፎቅ ቢሮ ቁጥር 205\n",
      "\n",
      "Message 23: 43 3500 ስልክ 251945355266 ፋሽን ተራ አድራሻ አዲስ አበባ ጦር ሀይሎች ድሪም ታወር 2ተኛ ፎቅ ቢሮ ቁጥር 205\n",
      "\n",
      "Message 24: በድጋሚ ገብቷል 414243 3950 ስልክ 251945355266 ፋሽን ተራ አድራሻ አዲስ አበባ ጦር ሀይሎች ድሪም ታወር 2ተኛ ፎቅ ቢሮ ቁጥር 205\n",
      "\n",
      "Message 25: 4244 35000 ስልክ 251945355266 ፋሽን ተራ አድራሻ አዲስ አበባ ጦር ሀይሎች ድሪም ታወር 2ተኛ ፎቅ ቢሮ ቁጥር 205\n",
      "\n",
      "Message 26: 2500 ስልክ 251945355266 ፋሽን ተራ አድራሻ አዲስ አበባ ጦር ሀይሎች ድሪም ታወር 2ተኛ ፎቅ ቢሮ ቁጥር 205\n",
      "\n",
      "Message 27: 414243 3500 ስልክ 251945355266 ፋሽን ተራ አድራሻ አዲስ አበባ ጦር ሀይሎች ድሪም ታወር 2ተኛ ፎቅ ቢሮ ቁጥር 205\n",
      "\n",
      "Message 28: 404142 4500 ስልክ 251945355266 ፋሽን ተራ አድራሻ አዲስ አበባ ጦር ሀይሎች ድሪም ታወር 2ተኛ ፎቅ ቢሮ ቁጥር 205\n",
      "\n",
      "Message 29: 2500 ስልክ 251945355266 ፋሽን ተራ አድራሻ አዲስ አበባ ጦር ሀይሎች ድሪም ታወር 2ተኛ ፎቅ ቢሮ ቁጥር 205\n",
      "\n",
      "Message 30: 414243 3500 ስልክ 251945355266 ፋሽን ተራ አድራሻ አዲስ አበባ ጦር ሀይሎች ድሪም ታወር 2ተኛ ፎቅ ቢሮ ቁጥር 205\n",
      "\n",
      "Message 31: 414243 3200 ስልክ 251945355266 ፋሽን ተራ አድራሻ አዲስ አበባ ጦር ሀይሎች ድሪም ታወር 2ተኛ ፎቅ ቢሮ ቁጥር 205\n",
      "\n",
      "Message 32: 414243 3500 ስልክ 251945355266 ፋሽን ተራ አድራሻ አዲስ አበባ ጦር ሀይሎች ድሪም ታወር 2ተኛ ፎቅ ቢሮ ቁጥር 205\n",
      "\n",
      "Message 33: 3000 ስልክ 251945355266 ፋሽን ተራ አድራሻ አዲስ አበባ ጦር ሀይሎች ድሪም ታወር 2ተኛ ፎቅ ቢሮ ቁጥር 205\n",
      "\n",
      "Message 34: 404142 3950 ስልክ 251945355266 ፋሽን ተራ አድራሻ አዲስ አበባ ጦር ሀይሎች ድሪም ታወር 2ተኛ ፎቅ ቢሮ ቁጥር 205\n",
      "\n",
      "Message 35: 2200 ስልክ 251945355266 ፋሽን ተራ አድራሻ አዲስ አበባ ጦር ሀይሎች ድሪም ታወር 2ተኛ ፎቅ ቢሮ ቁጥር 205\n",
      "\n",
      "Message 36: 414243 3400 ስልክ 251945355266 ፋሽን ተራ አድራሻ አዲስ አበባ ጦር ሀይሎች ድሪም ታወር 2ተኛ ፎቅ ቢሮ ቁጥር 205\n",
      "\n",
      "Message 37: 414243 3500 ስልክ 251945355266 ፋሽን ተራ አድራሻ አዲስ አበባ ጦር ሀይሎች ድሪም ታወር 2ተኛ ፎቅ ቢሮ ቁጥር 205\n",
      "\n",
      "Message 38: 414243 2900 ስልክ 251945355266 ፋሽን ተራ አድራሻ አዲስ አበባ ጦር ሀይሎች ድሪም ታወር 2ተኛ ፎቅ ቢሮ ቁጥር 205\n",
      "\n",
      "Message 39: 4344 3800 ስልክ 251945355266 ፋሽን ተራ አድራሻ አዲስ አበባ ጦር ሀይሎች ድሪም ታወር 2ተኛ ፎቅ ቢሮ ቁጥር 205\n",
      "\n",
      "Message 40: 404243 3200 ስልክ 251945355266 ፋሽን ተራ አድራሻ አዲስ አበባ ጦር ሀይሎች ድሪም ታወር 2ተኛ ፎቅ ቢሮ ቁጥር 205\n",
      "\n",
      "Message 41: 40414243 3800 ስልክ 251945355266 ፋሽን ተራ አድራሻ አዲስ አበባ ጦር ሀይሎች ድሪም ታወር 2ተኛ ፎቅ ቢሮ ቁጥር 205\n",
      "\n",
      "Message 42: 1 4043 3500 ስልክ 251945355266 ፋሽን ተራ አድራሻ አዲስ አበባ ጦር ሀይሎች ድሪም ታወር 2ተኛ ፎቅ ቢሮ ቁጥር 205\n",
      "\n",
      "Message 43: 2200 ስልክ 251945355266 ፋሽን ተራ አድራሻ አዲስ አበባ ጦር ሀይሎች ድሪም ታወር 2ተኛ ፎቅ ቢሮ ቁጥር 205\n",
      "\n",
      "Message 44: 4042 3500 ስልክ 251945355266 ፋሽን ተራ አድራሻ አዲስ አበባ ጦር ሀይሎች ድሪም ታወር 2ተኛ ፎቅ ቢሮ ቁጥር 205\n",
      "\n",
      "Message 45: ስልክ 251945355266 ፋሽን ተራ አድራሻ አዲስ አበባ ጦር ሀይሎች ድሪም ታወር 2ተኛ ፎቅ ቢሮ ቁጥር 205\n",
      "\n",
      "Message 46: 2200 ስልክ 251945355266 ፋሽን ተራ አድራሻ አዲስ አበባ ጦር ሀይሎች ድሪም ታወር 2ተኛ ፎቅ ቢሮ ቁጥር 205\n",
      "\n",
      "Message 47: 414243 3200 ስልክ 251945355266 ፋሽን ተራ አድራሻ አዲስ አበባ ጦር ሀይሎች ድሪም ታወር 2ተኛ ፎቅ ቢሮ ቁጥር 205\n",
      "\n",
      "Message 48: 424344 3800 ስልክ 251945355266 ፋሽን ተራ አድራሻ አዲስ አበባ ጦር ሀይሎች ድሪም ታወር 2ተኛ ፎቅ ቢሮ ቁጥር 205\n",
      "\n",
      "Message 49: 4042 3300 ስልክ 251945355266 ፋሽን ተራ አድራሻ አዲስ አበባ ጦር ሀይሎች ድሪም ታወር 2ተኛ ፎቅ ቢሮ ቁጥር 205\n",
      "\n",
      "Message 50: 4143 3500 ስልክ 251945355266 ፋሽን ተራ አድራሻ አዲስ አበባ ጦር ሀይሎች ድሪም ታወር 2ተኛ ፎቅ ቢሮ ቁጥር 205\n",
      "\n"
     ]
    }
   ],
   "source": [
    "#Step 1: Load Preprocessed Dataset and Select Subset to Label\n",
    "#  Select a subset of messages to label (e.g., first 50 messages)\n",
    "subset_size = 50\n",
    "df_subset = df.head(subset_size)\n",
    "\n",
    "# Inspect subset messages\n",
    "for i, msg in enumerate(df_subset['clean_message']):\n",
    "    print(f\"Message {i+1}: {msg}\\n\")"
   ]
  },
  {
   "cell_type": "code",
   "execution_count": 7,
   "id": "f34529ee",
   "metadata": {},
   "outputs": [
    {
     "name": "stderr",
     "output_type": "stream",
     "text": [
      "[nltk_data] Downloading package punkt to\n",
      "[nltk_data]     C:\\Users\\ayish\\AppData\\Roaming\\nltk_data...\n",
      "[nltk_data]   Package punkt is already up-to-date!\n"
     ]
    },
    {
     "data": {
      "text/plain": [
       "True"
      ]
     },
     "execution_count": 7,
     "metadata": {},
     "output_type": "execute_result"
    }
   ],
   "source": [
    "import nltk\n",
    "nltk.download('punkt')"
   ]
  },
  {
   "cell_type": "code",
   "execution_count": 12,
   "id": "00653864",
   "metadata": {},
   "outputs": [
    {
     "name": "stderr",
     "output_type": "stream",
     "text": [
      "C:\\Users\\ayish\\AppData\\Local\\Temp\\ipykernel_13232\\1012164741.py:7: SettingWithCopyWarning: \n",
      "A value is trying to be set on a copy of a slice from a DataFrame.\n",
      "Try using .loc[row_indexer,col_indexer] = value instead\n",
      "\n",
      "See the caveats in the documentation: https://pandas.pydata.org/pandas-docs/stable/user_guide/indexing.html#returning-a-view-versus-a-copy\n",
      "  df_subset['tokens'] = df_subset['clean_message'].apply(simple_tokenize)\n",
      "C:\\Users\\ayish\\AppData\\Local\\Temp\\ipykernel_13232\\1012164741.py:9: SettingWithCopyWarning: \n",
      "A value is trying to be set on a copy of a slice from a DataFrame.\n",
      "Try using .loc[row_indexer,col_indexer] = value instead\n",
      "\n",
      "See the caveats in the documentation: https://pandas.pydata.org/pandas-docs/stable/user_guide/indexing.html#returning-a-view-versus-a-copy\n",
      "  df_subset['tokens'] = df_subset['clean_message'].apply(simple_tokenize)\n"
     ]
    }
   ],
   "source": [
    "#Step 2: Prepare Tokenized Messages for Annotation You will label entities on tokens, so tokenize each message if not already tokenized\n",
    "def simple_tokenize(text):\n",
    "    if pd.isna(text) or not isinstance(text, str):\n",
    "        return []\n",
    "    return text.strip().split()\n",
    "\n",
    "df_subset['tokens'] = df_subset['clean_message'].apply(simple_tokenize)\n",
    "# Tokenize messages (if not already tokenized)\n",
    "df_subset['tokens'] = df_subset['clean_message'].apply(simple_tokenize)\n",
    "\n",
    "\n",
    "\n"
   ]
  },
  {
   "cell_type": "code",
   "execution_count": 13,
   "id": "82b7416e",
   "metadata": {},
   "outputs": [
    {
     "name": "stdout",
     "output_type": "stream",
     "text": [
      "['4142', '3400', 'ስልክ', '251945355266', 'ፋሽን', 'ተራ', 'አድራሻ', 'አዲስ', 'አበባ', 'ጦር', 'ሀይሎች', 'ድሪም', 'ታወር', '2ተኛ', 'ፎቅ']\n"
     ]
    }
   ],
   "source": [
    "# Check tokenization on first message\n",
    "print(df_subset['tokens'].iloc[0])"
   ]
  },
  {
   "cell_type": "code",
   "execution_count": 14,
   "id": "0a0e28a6",
   "metadata": {},
   "outputs": [
    {
     "name": "stdout",
     "output_type": "stream",
     "text": [
      "4142\tB-Product\n",
      "3400\tI-Product\n",
      "ስልክ\tO\n",
      "251945355266\tO\n",
      "ፋሽን\tO\n",
      "ተራ\tB-PRICE\n",
      "አድራሻ\tI-PRICE\n",
      "አዲስ\tI-PRICE\n",
      "አበባ\tO\n",
      "ጦር\tO\n",
      "ሀይሎች\tO\n",
      "ድሪም\tO\n",
      "ታወር\tO\n",
      "2ተኛ\tO\n",
      "ፎቅ\tO\n"
     ]
    },
    {
     "name": "stderr",
     "output_type": "stream",
     "text": [
      "C:\\Users\\ayish\\AppData\\Local\\Temp\\ipykernel_13232\\2747093694.py:3: SettingWithCopyWarning: \n",
      "A value is trying to be set on a copy of a slice from a DataFrame.\n",
      "Try using .loc[row_indexer,col_indexer] = value instead\n",
      "\n",
      "See the caveats in the documentation: https://pandas.pydata.org/pandas-docs/stable/user_guide/indexing.html#returning-a-view-versus-a-copy\n",
      "  df_subset['labels'] = df_subset['tokens'].apply(lambda tokens: ['O'] * len(tokens))\n"
     ]
    }
   ],
   "source": [
    "#Step 3: Manually Label Entities in Tokens ....For NER labeling, create a list of tuples (token, label) per message\n",
    "# Example: Create a placeholder label list of \"O\" (outside) for each token\n",
    "df_subset['labels'] = df_subset['tokens'].apply(lambda tokens: ['O'] * len(tokens))\n",
    "\n",
    "# Example of manual label assignment for first message (replace as needed)\n",
    "# Let's say the first two tokens are a product \"Baby bottle\" and \"150 ብር\" is a price\n",
    "example_tokens = df_subset['tokens'].iloc[0]\n",
    "example_labels = ['O'] * len(example_tokens)\n",
    "\n",
    "# Suppose tokens 0 and 1 are product, tokens 5,6,7 are price\n",
    "example_labels[0] = 'B-Product'\n",
    "example_labels[1] = 'I-Product'\n",
    "example_labels[5] = 'B-PRICE'\n",
    "example_labels[6] = 'I-PRICE'\n",
    "example_labels[7] = 'I-PRICE'\n",
    "\n",
    "df_subset.at[0, 'labels'] = example_labels\n",
    "\n",
    "# Print tokens with labels for first message\n",
    "for token, label in zip(example_tokens, example_labels):\n",
    "    print(f\"{token}\\t{label}\")\n"
   ]
  },
  {
   "cell_type": "code",
   "execution_count": null,
   "id": "e10debcf",
   "metadata": {},
   "outputs": [
    {
     "name": "stdout",
     "output_type": "stream",
     "text": [
      "Labeled data exported to ../data/labeled_subset.conll\n"
     ]
    }
   ],
   "source": [
    "#Step 4: Export Labeled Messages in CoNLL Format ....Write tokens and labels line-by-line, separating messages by blank lines\n",
    "def export_to_conll(df, filename):\n",
    "    with open(filename, 'w', encoding='utf-8') as f:\n",
    "        for idx, row in df.iterrows():\n",
    "            tokens = row['tokens']\n",
    "            labels = row['labels']\n",
    "            for token, label in zip(tokens, labels):\n",
    "                f.write(f\"{token}\\t{label}\\n\")\n",
    "            f.write('\\n')  # Blank line between messages\n",
    "\n",
    "# Export labeled subset to text file\n",
    "conll_output_path = '../data/labeled_subset.conll'\n",
    "export_to_conll(df_subset, conll_output_path)\n",
    "\n",
    "print(f\"Labeled data exported to {conll_output_path}\")\n",
    "#total labeled messages"
   ]
  },
  {
   "cell_type": "code",
   "execution_count": 16,
   "id": "68c20c98",
   "metadata": {},
   "outputs": [
    {
     "name": "stdout",
     "output_type": "stream",
     "text": [
      "Total labeled messages: 50\n"
     ]
    }
   ],
   "source": [
    "print(f\"Total labeled messages: {len(df_subset)}\")"
   ]
  },
  {
   "cell_type": "code",
   "execution_count": null,
   "id": "b3459726",
   "metadata": {},
   "outputs": [],
   "source": [
    "#Step 1: Preview the File  Let’s load and print a few labeled messages from your CoNLL file"
   ]
  },
  {
   "cell_type": "code",
   "execution_count": 19,
   "id": "7cf50d5f",
   "metadata": {},
   "outputs": [
    {
     "name": "stdout",
     "output_type": "stream",
     "text": [
      "Sentence: 4142 3400 ስልክ 251945355266 ፋሽን ተራ አድራሻ አዲስ አበባ ጦር ሀይሎች ድሪም ታወር 2ተኛ ፎቅ\n",
      "Labels:   B-Product I-Product O O O B-PRICE I-PRICE I-PRICE O O O O O O O\n",
      "--------------------------------------------------\n",
      "Sentence: 4041424344 4500 ስልክ 251945355266 ፋሽን ተራ አድራሻ አዲስ አበባ ጦር ሀይሎች ድሪም ታወር 2ተኛ ፎቅ\n",
      "Labels:   O O O O O O O O O O O O O O O\n",
      "--------------------------------------------------\n",
      "Sentence: 4142 3500 ስልክ 251945355266 ፋሽን ተራ አድራሻ አዲስ አበባ ጦር ሀይሎች ድሪም ታወር 2ተኛ ፎቅ\n",
      "Labels:   O O O O O O O O O O O O O O O\n",
      "--------------------------------------------------\n"
     ]
    }
   ],
   "source": [
    "def preview_conll_file(filepath, max_sentences=3):\n",
    "    with open(filepath, 'r', encoding='utf-8') as f:\n",
    "        tokens = []\n",
    "        for line in f:\n",
    "            line = line.strip()\n",
    "            if not line:\n",
    "                print(\"Sentence:\", \" \".join([t[0] for t in tokens]))\n",
    "                print(\"Labels:  \", \" \".join([t[1] for t in tokens]))\n",
    "                print(\"-\" * 50)\n",
    "                tokens = []\n",
    "                max_sentences -= 1\n",
    "                if max_sentences == 0:\n",
    "                    break\n",
    "            else:\n",
    "                splits = line.split('\\t')\n",
    "                if len(splits) == 2:\n",
    "                    tokens.append((splits[0], splits[1]))\n",
    "\n",
    "# Run the preview\n",
    "preview_conll_file(\"../data/labeled_subset.conll\")\n"
   ]
  },
  {
   "cell_type": "code",
   "execution_count": null,
   "id": "ffce262b",
   "metadata": {},
   "outputs": [],
   "source": [
    "#Check for Invalid Labels"
   ]
  },
  {
   "cell_type": "code",
   "execution_count": 21,
   "id": "9d1b8f44",
   "metadata": {},
   "outputs": [
    {
     "name": "stdout",
     "output_type": "stream",
     "text": [
      "✅ All labels are valid.\n"
     ]
    }
   ],
   "source": [
    "valid_labels = {\"O\", \"B-Product\", \"I-Product\", \"B-PRICE\", \"I-PRICE\", \"B-LOC\", \"I-LOC\"}\n",
    "\n",
    "def check_invalid_labels(filepath):\n",
    "    invalid = set()\n",
    "    with open(filepath, 'r', encoding='utf-8') as f:\n",
    "        for line in f:\n",
    "            line = line.strip()\n",
    "            if line:\n",
    "                splits = line.split('\\t')\n",
    "                if len(splits) == 2 and splits[1] not in valid_labels:\n",
    "                    invalid.add(splits[1])\n",
    "    return invalid\n",
    "\n",
    "invalids = check_invalid_labels(\"../data/labeled_subset.conll\")\n",
    "if invalids:\n",
    "    print(\"⚠️ Invalid labels found:\", invalids)\n",
    "else:\n",
    "    print(\"✅ All labels are valid.\")\n"
   ]
  }
 ],
 "metadata": {
  "kernelspec": {
   "display_name": ".venv",
   "language": "python",
   "name": "python3"
  },
  "language_info": {
   "codemirror_mode": {
    "name": "ipython",
    "version": 3
   },
   "file_extension": ".py",
   "mimetype": "text/x-python",
   "name": "python",
   "nbconvert_exporter": "python",
   "pygments_lexer": "ipython3",
   "version": "3.10.11"
  }
 },
 "nbformat": 4,
 "nbformat_minor": 5
}
